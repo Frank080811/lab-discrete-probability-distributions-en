{
 "cells": [
  {
   "cell_type": "markdown",
   "metadata": {},
   "source": [
    "# Before your start:\n",
    "\n",
    "    Read the README.md file\n",
    "    Comment as much as you can and use the resources (README.md file)\n",
    "    Happy learning!\n",
    "\n",
    "*Notes:* \n",
    "\n",
    "- Solve the questions with python.\n",
    "\n",
    "- Round the final answer to three decimal places."
   ]
  },
  {
   "cell_type": "code",
   "execution_count": 3,
   "metadata": {
    "tags": []
   },
   "outputs": [],
   "source": [
    "from scipy import stats\n",
    "import numpy as np\n",
    "import matplotlib.pyplot as plt\n",
    "import math"
   ]
  },
  {
   "cell_type": "markdown",
   "metadata": {},
   "source": [
    "## Bernoulli's Distribution\n",
    "\n",
    "In a basket containing 100 fruits, there are 60 apples and 40 oranges. \n",
    "\n",
    "A fruit is picked randomly from the basket. \n",
    "\n",
    "1. **What is the probability that the fruit is apple?**\n",
    "1. **What is the probability that it is an orange?**"
   ]
  },
  {
   "cell_type": "code",
   "execution_count": 8,
   "metadata": {
    "tags": []
   },
   "outputs": [
    {
     "name": "stdout",
     "output_type": "stream",
     "text": [
      "Probability of picking an Apple : 0.600\n",
      "Probability of picking an Orange : 0.400\n"
     ]
    }
   ],
   "source": [
    "\"\"\"\n",
    "Calculate:\n",
    "p = probability that the fruit is an apple \n",
    "q = probability that the fruit is an orange\n",
    "\"\"\"\n",
    "total_fruits = 100\n",
    "apples = 60\n",
    "oranges = 40\n",
    "\n",
    "p_apple = apples/total_fruits\n",
    "p_orange = oranges/total_fruits\n",
    "\n",
    "print(f\"Probability of picking an Apple : {p_apple:.3f}\")\n",
    "print(f\"Probability of picking an Orange : {p_orange:.3f}\")"
   ]
  },
  {
   "cell_type": "markdown",
   "metadata": {},
   "source": [
    "Now we take a random sample of 20 fruits from the basket. After each fruit is taken, a new fruit of the same type is replaced in the basket. Therefore, every time we are taking 1 fruit from 100 fruits. \n",
    "\n",
    "1. **What is the probability that the first 5 fruits are all apples?**\n",
    "\n",
    "1. **What is the probability that the first 5 fruits are all apples and the next 15 fruits are all oranges?**\n",
    "\n",
    "You can include the `p` and `q` probabilities you previous calculated in your solution."
   ]
  },
  {
   "cell_type": "code",
   "execution_count": 14,
   "metadata": {
    "tags": []
   },
   "outputs": [
    {
     "name": "stdout",
     "output_type": "stream",
     "text": [
      "The probability that the first 5 fruits are all apples is 0.078\n",
      "The probability that the first 5 fruits are all apples and the next 15 fruits are all oranges is 0.000\n"
     ]
    }
   ],
   "source": [
    "# What is the probability that the first 5 fruits are all apples?\n",
    "p_5_apples = p_apple ** 5\n",
    "p_apples_oranges = p_5_apples * (p_orange ** 15)\n",
    "\n",
    "print(f\"The probability that the first 5 fruits are all apples is {p_5_apples:.3f}\")\n",
    "print(f\"The probability that the first 5 fruits are all apples and the next 15 fruits are all oranges is {p_apples_oranges:.3f}\")"
   ]
  },
  {
   "cell_type": "markdown",
   "metadata": {},
   "source": [
    "## Binomial Distribution\n",
    "\n",
    "Similar to the above problem, this time again we randomly sample 20 fruits.\n",
    "\n",
    "**What is the probability that this time the sample contains 5 apples and 15 oranges?**\n",
    "\n",
    "Please note that this time the order of the fruits being picked does not matter."
   ]
  },
  {
   "cell_type": "code",
   "execution_count": 16,
   "metadata": {
    "tags": []
   },
   "outputs": [
    {
     "name": "stdout",
     "output_type": "stream",
     "text": [
      "Probability of exactly 5 apples (and 15 oranges): 0.001\n"
     ]
    }
   ],
   "source": [
    "from math import comb\n",
    "\n",
    "n = 20        # total fruits drawn\n",
    "k = 5         # number of apples\n",
    "\n",
    "\n",
    "# Binomial probability formula\n",
    "prob_5_apples = comb(n, k) * (p_apple ** k) * (p_orange ** (n - k))\n",
    "\n",
    "print(f\"Probability of exactly 5 apples (and 15 oranges): {prob_5_apples:.3f}\")"
   ]
  },
  {
   "cell_type": "code",
   "execution_count": null,
   "metadata": {},
   "outputs": [],
   "source": [
    "# your solution here"
   ]
  },
  {
   "cell_type": "markdown",
   "metadata": {},
   "source": [
    "In the lesson we also discussed CDF (cumulative distribution function). In the context of the above problem, **what is the probability that less than 5 fruits picked are apples?**\n",
    "\n",
    "Write the formula and calculate the probability below."
   ]
  },
  {
   "cell_type": "markdown",
   "metadata": {},
   "source": [
    "The cumulative distribution function (CDF) of the binomial gives the probability that \n",
    "\n",
    "𝑋\n",
    "X is less than or equal to some value \n",
    "𝑘\n",
    "k:\n",
    "\n",
    "𝐹\n",
    "(\n",
    "𝑘\n",
    ")\n",
    "=\n",
    "𝑃\n",
    "(\n",
    "𝑋\n",
    "≤\n",
    "𝑘\n",
    ")\n",
    "=\n",
    "∑\n",
    "𝑥\n",
    "=\n",
    "0\n",
    "𝑘\n",
    "(\n",
    "𝑛\n",
    "𝑥\n",
    ")\n",
    "𝑝\n",
    "𝑥\n",
    "(\n",
    "1\n",
    "−\n",
    "𝑝\n",
    ")\n",
    "𝑛\n",
    "−\n",
    "𝑥\n",
    "F(k)=P(X≤k)=\n",
    "x=0\n",
    "∑\n",
    "k\n",
    "\t​\n",
    "\n",
    "(\n",
    "x\n",
    "n\n",
    "\t​\n",
    "\n",
    ")p\n",
    "x\n",
    "(1−p)\n",
    "n−x\n",
    "\n",
    "Since we want \n",
    "𝑃\n",
    "(\n",
    "𝑋\n",
    "<\n",
    "5\n",
    ")\n",
    "P(X<5), that’s the same as:\n",
    "\n",
    "𝑃\n",
    "(\n",
    "𝑋\n",
    "<\n",
    "5\n",
    ")\n",
    "=\n",
    "𝑃\n",
    "(\n",
    "𝑋\n",
    "≤\n",
    "4\n",
    ")\n",
    "=\n",
    "𝐹\n",
    "(\n",
    "4\n",
    ")\n",
    "=\n",
    "∑\n",
    "𝑥\n",
    "=\n",
    "0\n",
    "4\n",
    "(\n",
    "𝑛\n",
    "𝑥\n",
    ")\n",
    "𝑝\n",
    "𝑥\n",
    "(\n",
    "1\n",
    "−\n",
    "𝑝\n",
    ")\n",
    "𝑛\n",
    "−\n",
    "𝑥\n",
    "P(X<5)=P(X≤4)=F(4)=\n",
    "x=0\n",
    "∑\n",
    "4\n",
    "\t​\n",
    "\n",
    "(\n",
    "x\n",
    "n\n",
    "\t​\n",
    "\n",
    ")p\n",
    "x\n",
    "(1−p)\n",
    "n−x"
   ]
  },
  {
   "cell_type": "code",
   "execution_count": 28,
   "metadata": {
    "tags": []
   },
   "outputs": [
    {
     "name": "stdout",
     "output_type": "stream",
     "text": [
      "P(X < 5) = 0.000\n"
     ]
    }
   ],
   "source": [
    "from scipy.stats import binom\n",
    "\n",
    "n = 20\n",
    "p = 0.6\n",
    "\n",
    "# CDF up to 4 (i.e., P(X <= 4))\n",
    "prob_less_than_5 = binom.cdf(4, n, p)\n",
    "\n",
    "print(f\"P(X < 5) = {prob_less_than_5:.3f}\")\n"
   ]
  },
  {
   "cell_type": "markdown",
   "metadata": {},
   "source": [
    "<!-- **Plot the PDF (probability distributiom function) for the above binomial distribution.** -->\n",
    "\n",
    "**Plot the Probability Mass Function (PMF) for the above binomial distribution.**\n",
    "\n",
    "*Hint: The range of x in a binomial distribution is from `0` to `n`.*"
   ]
  },
  {
   "cell_type": "code",
   "execution_count": 30,
   "metadata": {
    "tags": []
   },
   "outputs": [
    {
     "data": {
      "image/png": "[encoded data removed]",
      "text/plain": [
       "<Figure size 800x500 with 1 Axes>"
      ]
     },
     "metadata": {},
     "output_type": "display_data"
    }
   ],
   "source": [
    "import numpy as np\n",
    "import matplotlib.pyplot as plt\n",
    "from scipy.stats import binom\n",
    "\n",
    "# Parameters\n",
    "n = 20  \n",
    "p = 0.6\n",
    "\n",
    "# Range of possible outcomes (0 to n)\n",
    "x = np.arange(0, n + 1)\n",
    "\n",
    "# Compute the probability mass function (PMF)\n",
    "pmf_values = binom.pmf(x, n, p)\n",
    "\n",
    "# Plot the PMF\n",
    "plt.figure(figsize=(8, 5))\n",
    "plt.bar(x, pmf_values, color='skyblue', edgecolor='black')\n",
    "plt.title('Binomial Distribution PMF (n=20, p=0.6)')\n",
    "plt.xlabel('Number of Apples Picked (x)')\n",
    "plt.ylabel('P(X = x)')\n",
    "plt.grid(axis='y', linestyle='--', alpha=0.7)\n",
    "plt.show()\n"
   ]
  },
  {
   "cell_type": "markdown",
   "metadata": {},
   "source": [
    "## Poisson Distribution\n",
    "\n",
    "In this challenge you are required to use the Math library in python to solve the problems.\n",
    "\n",
    "In the UEFA champions league tournament, the average number of goals scored in a match is 2.3. \n",
    "\n",
    "**What is the probability that the number of goals scored in a match is 5?**\n",
    "\n",
    "*Hint: Use the exp() in the math library*\n",
    "\n",
    "And to calculate the factorial, you can use the following code:\n",
    "\n",
    "```python\n",
    "import math\n",
    "math.factorial(n) # n is the number you want to find the factorial of\n",
    "```"
   ]
  },
  {
   "cell_type": "code",
   "execution_count": 32,
   "metadata": {
    "tags": []
   },
   "outputs": [
    {
     "name": "stdout",
     "output_type": "stream",
     "text": [
      "P(X = 5) = 0.05\n"
     ]
    }
   ],
   "source": [
    "import math\n",
    "\n",
    "# Given values\n",
    "lam = 2.3 \n",
    "k = 5\n",
    "\n",
    "# Poisson formula\n",
    "P = (math.exp(-lam) * (lam ** k)) / math.factorial(k)\n",
    "\n",
    "print(f\"P(X = 5) = {P:.2f}\")\n"
   ]
  },
  {
   "cell_type": "markdown",
   "metadata": {},
   "source": [
    "**Draw a poisson probability distribution plot for the number of goals to be between 0 to 10.**"
   ]
  },
  {
   "cell_type": "code",
   "execution_count": 34,
   "metadata": {
    "tags": []
   },
   "outputs": [
    {
     "data": {
      "image/png": "[encoded data removed]",
      "text/plain": [
       "<Figure size 800x500 with 1 Axes>"
      ]
     },
     "metadata": {},
     "output_type": "display_data"
    }
   ],
   "source": [
    "import numpy as np\n",
    "import matplotlib.pyplot as plt\n",
    "from math import exp, factorial\n",
    "\n",
    "# Given mean (lambda)\n",
    "lam = 2.3\n",
    "\n",
    "# Range of possible goals (0 to 10)\n",
    "x = np.arange(0, 11)\n",
    "\n",
    "# Compute Poisson probabilities manually\n",
    "poisson_probs = [(exp(-lam) * (lam ** k)) / factorial(k) for k in x]\n",
    "\n",
    "# Plot\n",
    "plt.figure(figsize=(8, 5))\n",
    "plt.bar(x, poisson_probs, color='lightgreen', edgecolor='black')\n",
    "plt.title('Poisson Probability Distribution (λ = 2.3)', fontsize=14)\n",
    "plt.xlabel('Number of Goals Scored (k)', fontsize=12)\n",
    "plt.ylabel('Probability P(X = k)', fontsize=12)\n",
    "plt.grid(axis='y', linestyle='--', alpha=0.6)\n",
    "plt.show()\n"
   ]
  },
  {
   "cell_type": "code",
   "execution_count": null,
   "metadata": {},
   "outputs": [],
   "source": []
  }
 ],
 "metadata": {
  "kernelspec": {
   "display_name": "Python (mybigdata)",
   "language": "python",
   "name": "mybigdata"
  },
  "language_info": {
   "codemirror_mode": {
    "name": "ipython",
    "version": 3
   },
   "file_extension": ".py",
   "mimetype": "text/x-python",
   "name": "python",
   "nbconvert_exporter": "python",
   "pygments_lexer": "ipython3",
   "version": "3.11.11"
  },
  "vscode": {
   "interpreter": {
    "hash": "aee8b7b246df8f9039afb4144a1f6fd8d2ca17a180786b69acc140d282b71a49"
   }
  }
 },
 "nbformat": 4,
 "nbformat_minor": 4
}
